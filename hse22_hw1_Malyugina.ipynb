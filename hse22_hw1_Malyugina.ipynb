{
  "nbformat": 4,
  "nbformat_minor": 0,
  "metadata": {
    "colab": {
      "provenance": [],
      "authorship_tag": "ABX9TyOzNw/wTfFpuevi/QDfBPRl",
      "include_colab_link": true
    },
    "kernelspec": {
      "name": "python3",
      "display_name": "Python 3"
    },
    "language_info": {
      "name": "python"
    }
  },
  "cells": [
    {
      "cell_type": "markdown",
      "metadata": {
        "id": "view-in-github",
        "colab_type": "text"
      },
      "source": [
        "<a href=\"https://colab.research.google.com/github/Katmalu/hse22_hw1/blob/main/hse22_hw1_Malyugina.ipynb\" target=\"_parent\"><img src=\"https://colab.research.google.com/assets/colab-badge.svg\" alt=\"Open In Colab\"/></a>"
      ]
    },
    {
      "cell_type": "code",
      "execution_count": 1,
      "metadata": {
        "colab": {
          "base_uri": "https://localhost:8080/"
        },
        "id": "CuR1QZA-OS6M",
        "outputId": "65719fcf-3dee-410f-8ad1-13cdb4c82cde"
      },
      "outputs": [
        {
          "output_type": "stream",
          "name": "stdout",
          "text": [
            "Cloning into 'hse22_hw1'...\n",
            "remote: Enumerating objects: 60, done.\u001b[K\n",
            "remote: Counting objects: 100% (60/60), done.\u001b[K\n",
            "remote: Compressing objects: 100% (55/55), done.\u001b[K\n",
            "remote: Total 60 (delta 16), reused 0 (delta 0), pack-reused 0\u001b[K\n",
            "Unpacking objects: 100% (60/60), done.\n"
          ]
        }
      ],
      "source": [
        "!git clone https://github.com/Katmalu/hse22_hw1"
      ]
    },
    {
      "cell_type": "code",
      "source": [
        "def gaps(scaf):\n",
        "    numb=0\n",
        "    length=0\n",
        "    prev=\"\"\n",
        "    \n",
        "    for l in scaf:\n",
        "        if l == \"N\":\n",
        "            if prev != \"N\":\n",
        "                numb+=1\n",
        "            length+=1\n",
        "        prev=l\n",
        "    print(f\"Количество гэпов в самом длинном скафолде: {numb}\")\n",
        "    print(f\"Общая длина гэпов в самом длинном скафолде: {length}\")\n",
        "\n",
        "def analysis(file, object_name=\"object\"):\n",
        "    with open(file, 'r') as f:\n",
        "        lines = f.readlines()\n",
        "        \n",
        "    n50=0\n",
        "    numb=0\n",
        "    length=0\n",
        "    max_length=0\n",
        "    len_array=[]\n",
        "    cur=''\n",
        "    \n",
        "    lines.append(\">\")\n",
        "    \n",
        "    for line in lines:\n",
        "        if '>' in line:\n",
        "            cur_len=len(cur)\n",
        "            length+=cur_len\n",
        "            len_array.append(cur_len)\n",
        "            if cur_len > max_length:\n",
        "                max_length = cur_len\n",
        "                max_object=cur\n",
        "            cur=''\n",
        "            numb+=1\n",
        "        else:\n",
        "            cur+=line\n",
        "    \n",
        "    len_array = sorted(len_array)\n",
        "    \n",
        "    tmp_sum=0\n",
        "    for leng in len_array:\n",
        "        tmp_sum += leng\n",
        "        n50=leng\n",
        "        if tmp_sum > length / 2:\n",
        "            break\n",
        "    \n",
        "    \n",
        "    print(f\"Анализ {object_name}ов \\n\")\n",
        "    print(f\"Количество: {numb}\")\n",
        "    print(f\"Общая длина: {length}\")\n",
        "    print(f\"Максимальная длина: {max_length}\")\n",
        "    print(f\"n50: {n50}\")\n",
        "    return max_object\n",
        "      \n"
      ],
      "metadata": {
        "id": "XCzGUKNlOgyZ"
      },
      "execution_count": 20,
      "outputs": []
    },
    {
      "cell_type": "code",
      "source": [
        "a = analysis(\"/content/hse22_hw1/Data/contig.fa\", \"контиг\")"
      ],
      "metadata": {
        "colab": {
          "base_uri": "https://localhost:8080/"
        },
        "id": "yZydQfhbO9c_",
        "outputId": "a972012b-73e9-4bef-a7bc-25e69af2bece"
      },
      "execution_count": 22,
      "outputs": [
        {
          "output_type": "stream",
          "name": "stdout",
          "text": [
            "Анализ контигов \n",
            "\n",
            "Количество: 613\n",
            "Общая длина: 3974843\n",
            "Максимальная длина: 181549\n",
            "n50: 53459\n"
          ]
        }
      ]
    },
    {
      "cell_type": "code",
      "source": [
        "a = analysis(\"/content/hse22_hw1/Data/gap_scaffold.fa\", \"скафолд\")\n",
        "gaps(a)"
      ],
      "metadata": {
        "colab": {
          "base_uri": "https://localhost:8080/"
        },
        "id": "yV9pmnThPBLK",
        "outputId": "f4ea62cc-1df4-405e-a097-798d02309568"
      },
      "execution_count": 28,
      "outputs": [
        {
          "output_type": "stream",
          "name": "stdout",
          "text": [
            "Анализ скафолдов \n",
            "\n",
            "Количество: 72\n",
            "Общая длина: 3925037\n",
            "Максимальная длина: 3880331\n",
            "n50: 3880331\n",
            "Количество гэпов в самом длинном скафолде: 150\n",
            "Общая длина гэпов в самом длинном скафолде: 6999\n"
          ]
        }
      ]
    },
    {
      "cell_type": "code",
      "source": [
        "a = analysis(\"/content/hse22_hw1/Data/scaffold.fa\", \"скафолд\")\n",
        "gaps(a)\n",
        "with open(f\"longest.fa\", \"w\") as out:\n",
        "  out.write(a)"
      ],
      "metadata": {
        "colab": {
          "base_uri": "https://localhost:8080/"
        },
        "id": "pQifWTQ3PZBS",
        "outputId": "4ef82466-c3f0-46d3-8ed2-2013b5bffd14"
      },
      "execution_count": 27,
      "outputs": [
        {
          "output_type": "stream",
          "name": "stdout",
          "text": [
            "Анализ скафолдов \n",
            "\n",
            "Количество: 72\n",
            "Общая длина: 3965676\n",
            "Максимальная длина: 3920567\n",
            "n50: 3920567\n",
            "Количество гэпов в самом длинном скафолде: 39\n",
            "Общая длина гэпов в самом длинном скафолде: 2401\n"
          ]
        }
      ]
    },
    {
      "cell_type": "markdown",
      "source": [
        "Доп задание"
      ],
      "metadata": {
        "id": "DR91sHTxPvRL"
      }
    },
    {
      "cell_type": "code",
      "source": [
        "analysis(\"/content/hse22_hw1/dop_Data/dop_contig.fa\", \"контиг\")"
      ],
      "metadata": {
        "colab": {
          "base_uri": "https://localhost:8080/"
        },
        "id": "JKbBM4Z-Rt22",
        "outputId": "6508f942-920b-4785-ec6f-fbb9728ed03c"
      },
      "execution_count": 19,
      "outputs": [
        {
          "output_type": "stream",
          "name": "stdout",
          "text": [
            "Анализ контигов \n",
            "\n",
            "Количество: 3492\n",
            "Общая длина: 3967913\n",
            "Максимальная длина: 25915\n",
            "n50: 4037\n"
          ]
        }
      ]
    },
    {
      "cell_type": "code",
      "source": [
        "a = analysis(\"/content/hse22_hw1/dop_Data/dop_gap_scaffold.fa\", \"скафолд\")\n",
        "gaps(a)"
      ],
      "metadata": {
        "colab": {
          "base_uri": "https://localhost:8080/"
        },
        "id": "IgZeo32bR7ki",
        "outputId": "e39557cc-034c-4ccd-ac2d-bd8cfffbf0e6"
      },
      "execution_count": 29,
      "outputs": [
        {
          "output_type": "stream",
          "name": "stdout",
          "text": [
            "Анализ скафолдов \n",
            "\n",
            "Количество: 477\n",
            "Общая длина: 3915328\n",
            "Максимальная длина: 759142\n",
            "n50: 654901\n",
            "Количество гэпов в самом длинном скафолде: 541\n",
            "Общая длина гэпов в самом длинном скафолде: 16092\n"
          ]
        }
      ]
    },
    {
      "cell_type": "code",
      "source": [
        "a = analysis(\"/content/hse22_hw1/dop_Data/dop_scaffold.fa\", \"скафолд\")\n",
        "gaps(a)"
      ],
      "metadata": {
        "colab": {
          "base_uri": "https://localhost:8080/"
        },
        "id": "vHMUgIeJTVNv",
        "outputId": "b4dd01ec-b91b-4ddb-9b8d-d8d69eb94001"
      },
      "execution_count": 30,
      "outputs": [
        {
          "output_type": "stream",
          "name": "stdout",
          "text": [
            "Анализ скафолдов \n",
            "\n",
            "Количество: 477\n",
            "Общая длина: 3903241\n",
            "Максимальная длина: 756783\n",
            "n50: 652961\n",
            "Количество гэпов в самом длинном скафолде: 111\n",
            "Общая длина гэпов в самом длинном скафолде: 6751\n"
          ]
        }
      ]
    }
  ]
}